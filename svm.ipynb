{
 "cells": [
  {
   "cell_type": "code",
   "execution_count": 1,
   "id": "ef591c57",
   "metadata": {},
   "outputs": [],
   "source": [
    "import numpy as np\n",
    "import pandas as pd"
   ]
  },
  {
   "cell_type": "code",
   "execution_count": 2,
   "id": "93bf684f",
   "metadata": {},
   "outputs": [],
   "source": [
    "# Specifica il percorso del file XLS\n",
    "file_path =  \"C:\\\\Users\\\\andre\\\\Desktop\\\\simonetti\\\\default of credit card clients.xls\"\n",
    "\n",
    "# Carica il file XLS utilizzando la funzione read_excel di pandas\n",
    "data = pd.read_excel(file_path, header=1)\n",
    "\n",
    "# Puoi utilizzare il dataframe 'data' per eseguire le operazioni desiderate sul file XLS\n"
   ]
  },
  {
   "cell_type": "code",
   "execution_count": 3,
   "id": "4812a46f",
   "metadata": {},
   "outputs": [],
   "source": [
    "from sklearn.model_selection import train_test_split\n",
    "\n",
    "X = data.iloc[:,1:24]\n",
    "y = data.iloc[:,24]\n",
    "\n",
    "X_train, X_test, y_train, y_test = train_test_split(\n",
    "    X.to_numpy() , y, train_size=10000) #random_state per il set seed"
   ]
  },
  {
   "cell_type": "code",
   "execution_count": 4,
   "id": "b184db3a",
   "metadata": {},
   "outputs": [
    {
     "data": {
      "text/plain": [
       "array([[ 20000,      2,      2, ...,    623,    512,    185],\n",
       "       [290000,      2,      1, ...,   5258,   1248,   9600],\n",
       "       [370000,      2,      2, ...,   8817,  10763,   2526],\n",
       "       ...,\n",
       "       [ 80000,      2,      3, ...,      0,   6103,      0],\n",
       "       [140000,      2,      1, ...,   5000,   5000,   5000],\n",
       "       [ 50000,      2,      2, ...,   3003,   2800,   2504]], dtype=int64)"
      ]
     },
     "execution_count": 4,
     "metadata": {},
     "output_type": "execute_result"
    }
   ],
   "source": [
    "X_train"
   ]
  },
  {
   "cell_type": "markdown",
   "id": "a568498f",
   "metadata": {},
   "source": [
    "## SVM with cross validation\n",
    "https://scikit-learn.org/stable/modules/cross_validation.html#cross-validation-and-model-selection"
   ]
  },
  {
   "cell_type": "code",
   "execution_count": 5,
   "id": "4b9a9a98",
   "metadata": {},
   "outputs": [
    {
     "data": {
      "text/plain": [
       "0.7793"
      ]
     },
     "execution_count": 5,
     "metadata": {},
     "output_type": "execute_result"
    }
   ],
   "source": [
    "#svm più semplice possibile ('rbf' molto più veloce)\n",
    "from sklearn import svm\n",
    "\n",
    "clf = svm.SVC(kernel='rbf', C=1).fit(X_train, y_train) #fitta svm, c e gamma default\n",
    "clf.score(X_test, y_test) #predict e calcolo precisione su test set"
   ]
  },
  {
   "cell_type": "code",
   "execution_count": 6,
   "id": "3233112d",
   "metadata": {},
   "outputs": [
    {
     "data": {
      "text/plain": [
       "array([0.778 , 0.778 , 0.778 , 0.7775, 0.7775])"
      ]
     },
     "execution_count": 6,
     "metadata": {},
     "output_type": "execute_result"
    }
   ],
   "source": [
    "#cross validation semplice\n",
    "from sklearn.model_selection import cross_val_score\n",
    "\n",
    "clf = svm.SVC(kernel='rbf', C=1) #prima crei il fit che vuoi applicare,random_state per il set seed, C fissato ad 1\n",
    "scores = cross_val_score(clf, X_train, y_train, cv=5, n_jobs=-1) #clf (il fit) va dentro la fun di CV, cv = 5 numero fold, acceta anche un iteratore\n",
    "scores"
   ]
  },
  {
   "cell_type": "code",
   "execution_count": 7,
   "id": "298943d3",
   "metadata": {},
   "outputs": [
    {
     "data": {
      "text/plain": [
       "array([0.79      , 0.77133333, 0.78866667, 0.78533333, 0.77766667])"
      ]
     },
     "execution_count": 7,
     "metadata": {},
     "output_type": "execute_result"
    }
   ],
   "source": [
    "#cross-validation con cv generator ShuffleSplit (che dovrebbe andare bene ma vedi anche kfold)\n",
    "#ShuffleSplit è solo un modo per cv generator vedi:\n",
    "#https://scikit-learn.org/stable/modules/cross_validation.html#cross-validation-iterators (importante!)\n",
    "\n",
    "from sklearn.model_selection import ShuffleSplit\n",
    "\n",
    "n_samples = X.shape[0]\n",
    "cv = ShuffleSplit(n_splits=5, test_size=0.3) #genera indici per dividere i dati in train e test per la cv\n",
    "cross_val_score(clf, X_train, y_train, cv=cv)"
   ]
  },
  {
   "cell_type": "code",
   "execution_count": 8,
   "id": "72d1e976",
   "metadata": {},
   "outputs": [
    {
     "data": {
      "text/plain": [
       "array([0.811     , 0.80433333, 0.81333333, 0.80466667, 0.81966667])"
      ]
     },
     "execution_count": 8,
     "metadata": {},
     "output_type": "execute_result"
    }
   ],
   "source": [
    "#kfold cv con standardizzazione delle variabili (scalare le variabili potrebbe velocizzare un po')\n",
    "\n",
    "from sklearn.pipeline import make_pipeline\n",
    "from sklearn import preprocessing\n",
    "\n",
    "clf = make_pipeline(preprocessing.StandardScaler(), \n",
    "                    svm.SVC(kernel='rbf', C=1)) #standardizza e applica il svm\n",
    "cross_val_score(clf, X_train, y_train, cv=cv)"
   ]
  },
  {
   "cell_type": "code",
   "execution_count": 9,
   "id": "8d81ea87",
   "metadata": {},
   "outputs": [
    {
     "data": {
      "text/plain": [
       "['estimator',\n",
       " 'fit_time',\n",
       " 'score_time',\n",
       " 'test_accuracy',\n",
       " 'test_f1',\n",
       " 'test_recall']"
      ]
     },
     "execution_count": 9,
     "metadata": {},
     "output_type": "execute_result"
    }
   ],
   "source": [
    "#la funzione cross_validate è più completa di cross_val_score, più metriche ecc...\n",
    "\n",
    "from sklearn.model_selection import cross_validate\n",
    "from sklearn.metrics import recall_score\n",
    "\n",
    "#https://scikit-learn.org/stable/modules/model_evaluation.html 3.3.1.1 per altre misure di scoring\n",
    "scoring = ['accuracy', 'recall','f1'] \n",
    "clf = make_pipeline(preprocessing.StandardScaler(), \n",
    "                    svm.SVC(kernel='rbf', C=1))\n",
    "scores = cross_validate(clf, X_train, y_train, scoring=scoring, cv=cv,return_estimator=True) #contiene anche il modello fittato\n",
    "sorted(scores.keys())"
   ]
  },
  {
   "cell_type": "code",
   "execution_count": 10,
   "id": "12407904",
   "metadata": {},
   "outputs": [
    {
     "name": "stdout",
     "output_type": "stream",
     "text": [
      "precisione: [0.81166667 0.818      0.809      0.81233333 0.813     ]\n",
      "recall: [0.30847953 0.32041729 0.29498525 0.30955777 0.32132565]\n",
      "f1 score: [0.42755826 0.44057377 0.41109969 0.43530592 0.4428997 ]\n"
     ]
    }
   ],
   "source": [
    "print('precisione:',scores['test_accuracy'])\n",
    "print('recall:',scores['test_recall'])\n",
    "print('f1 score:',scores['test_f1'])"
   ]
  },
  {
   "cell_type": "code",
   "execution_count": 11,
   "id": "3f74d365",
   "metadata": {},
   "outputs": [
    {
     "data": {
      "text/plain": [
       "['estimator',\n",
       " 'fit_time',\n",
       " 'score_time',\n",
       " 'test_accuracy',\n",
       " 'test_f1',\n",
       " 'test_recall']"
      ]
     },
     "execution_count": 11,
     "metadata": {},
     "output_type": "execute_result"
    }
   ],
   "source": [
    "#rifaccio l'ultimo ma con cv con kfold\n",
    "\n",
    "from sklearn.model_selection import KFold\n",
    "\n",
    "#https://scikit-learn.org/stable/modules/model_evaluation.html 3.3.1.1 per altre misure di scoring\n",
    "cv = KFold(n_splits=5, shuffle=True) #kfold\n",
    "scoring = ['accuracy', 'recall','f1'] \n",
    "clf = make_pipeline(preprocessing.StandardScaler(), \n",
    "                    svm.SVC(kernel='rbf', C=1))\n",
    "scores = cross_validate(clf, X_train, y_train, scoring=scoring, cv=cv,return_estimator=True) #contiene anche il modello fittato\n",
    "sorted(scores.keys())"
   ]
  },
  {
   "cell_type": "code",
   "execution_count": 12,
   "id": "c3b09066",
   "metadata": {},
   "outputs": [
    {
     "name": "stdout",
     "output_type": "stream",
     "text": [
      "precisione: [0.8125 0.8125 0.8115 0.8275 0.811 ]\n",
      "recall: [0.29333333 0.31543624 0.29478458 0.31554524 0.31788079]\n",
      "f1 score: [0.41314554 0.42922374 0.40816327 0.44084279 0.43243243]\n"
     ]
    }
   ],
   "source": [
    "print('precisione:',scores['test_accuracy'])\n",
    "print('recall:',scores['test_recall'])\n",
    "print('f1 score:',scores['test_f1'])"
   ]
  },
  {
   "cell_type": "markdown",
   "id": "8918dacc",
   "metadata": {},
   "source": [
    "## Hyperparameter tuning\n",
    "https://scikit-learn.org/stable/modules/grid_search.html#grid-search\n",
    "https://scikit-learn.org/stable/auto_examples/model_selection/plot_nested_cross_validation_iris.html"
   ]
  },
  {
   "cell_type": "code",
   "execution_count": 13,
   "id": "98fbb70c",
   "metadata": {
    "scrolled": true
   },
   "outputs": [
    {
     "name": "stderr",
     "output_type": "stream",
     "text": [
      "[Parallel(n_jobs=6)]: Using backend LokyBackend with 6 concurrent workers.\n",
      "[Parallel(n_jobs=6)]: Done   2 out of   5 | elapsed: 18.9min remaining: 28.3min\n",
      "[Parallel(n_jobs=6)]: Done   3 out of   5 | elapsed: 19.0min remaining: 12.7min\n",
      "[Parallel(n_jobs=6)]: Done   5 out of   5 | elapsed: 19.1min remaining:    0.0s\n",
      "[Parallel(n_jobs=6)]: Done   5 out of   5 | elapsed: 19.1min finished\n"
     ]
    }
   ],
   "source": [
    "from sklearn.model_selection import GridSearchCV\n",
    "from sklearn import svm\n",
    "\n",
    "# Set up possible values of parameters to optimize over\n",
    "p_grid = {\"C\": [0.01, 0.1, 1, 10, 100], \"gamma\": np.logspace(-5, 0.1, 20)}\n",
    "\n",
    "# We will use a Support Vector Classifier with \"rbf\" kernel\n",
    "svm = svm.SVC(kernel=\"rbf\")\n",
    "\n",
    "nested_scores = []\n",
    "\n",
    "# Choose cross-validation techniques for the inner and outer loops,\n",
    "# independently of the dataset.\n",
    "# E.g \"GroupKFold\", \"LeaveOneOut\", \"LeaveOneGroupOut\", etc.\n",
    "inner_cv = KFold(n_splits=5, shuffle=True)\n",
    "outer_cv = KFold(n_splits=5, shuffle=True)\n",
    "\n",
    "# Nested CV with parameter optimization and scaling data\n",
    "clf = make_pipeline(preprocessing.StandardScaler(), \n",
    "    GridSearchCV(estimator=svm, param_grid=p_grid, cv=inner_cv,n_jobs=6, scoring = 'accuracy'))\n",
    "\n",
    "#clf = GridSearchCV(estimator=svm, param_grid=p_grid, cv=inner_cv,n_jobs=6, scoring = 'accuracy')\n",
    "nested_score = cross_validate(clf, X=X_train, y=y_train, cv=outer_cv, n_jobs=6, return_estimator=True, scoring= 'accuracy', verbose=10)"
   ]
  },
  {
   "cell_type": "code",
   "execution_count": 14,
   "id": "70b86dad",
   "metadata": {},
   "outputs": [],
   "source": [
    "outer_models = [nested_score['estimator'][i][1] for i in range(5)]"
   ]
  },
  {
   "cell_type": "code",
   "execution_count": 15,
   "id": "9f955bf7",
   "metadata": {
    "scrolled": true
   },
   "outputs": [
    {
     "name": "stdout",
     "output_type": "stream",
     "text": [
      "Best Param Outer Fold: 0 {'C': 10, 'gamma': 0.016636142493842227}\n",
      "Best Param Outer Fold: 1 {'C': 100, 'gamma': 0.004832930238571752}\n",
      "Best Param Outer Fold: 2 {'C': 100, 'gamma': 0.0026048905108264305}\n",
      "Best Param Outer Fold: 3 {'C': 10, 'gamma': 0.016636142493842227}\n",
      "Best Param Outer Fold: 4 {'C': 1, 'gamma': 0.030865526123848623}\n"
     ]
    },
    {
     "data": {
      "text/plain": [
       "[None, None, None, None, None]"
      ]
     },
     "execution_count": 15,
     "metadata": {},
     "output_type": "execute_result"
    }
   ],
   "source": [
    "[print('Best Param Outer Fold:',i,outer_models[i].best_params_) for i in range(5)]"
   ]
  },
  {
   "cell_type": "code",
   "execution_count": 16,
   "id": "b784d032",
   "metadata": {},
   "outputs": [
    {
     "name": "stdout",
     "output_type": "stream",
     "text": [
      "Best Score Outer Fold: 0 0.81925\n",
      "Best Score Outer Fold: 1 0.8147500000000001\n",
      "Best Score Outer Fold: 2 0.817375\n",
      "Best Score Outer Fold: 3 0.8176249999999999\n",
      "Best Score Outer Fold: 4 0.8133750000000001\n"
     ]
    },
    {
     "data": {
      "text/plain": [
       "[None, None, None, None, None]"
      ]
     },
     "execution_count": 16,
     "metadata": {},
     "output_type": "execute_result"
    }
   ],
   "source": [
    "[print('Best Score Outer Fold:',i, outer_models[i].best_score_) for i in range(5)]"
   ]
  },
  {
   "cell_type": "code",
   "execution_count": 17,
   "id": "4d388dc3",
   "metadata": {
    "scrolled": true
   },
   "outputs": [],
   "source": [
    "#nested_score['estimator'][0].cv_results_\n",
    "df_grid = pd.DataFrame(outer_models[0].cv_results_['params'])\n",
    "df_grid['mean_test_score'] = outer_models[0].cv_results_['mean_test_score']"
   ]
  },
  {
   "cell_type": "code",
   "execution_count": 21,
   "id": "d6af052d",
   "metadata": {
    "scrolled": true
   },
   "outputs": [
    {
     "data": {
      "text/plain": [
       "[<matplotlib.lines.Line2D at 0x1cadf5407f0>]"
      ]
     },
     "execution_count": 21,
     "metadata": {},
     "output_type": "execute_result"
    },
    {
     "data": {
      "image/png": "[encoded data removed]",
      "text/plain": [
       "<Figure size 640x480 with 1 Axes>"
      ]
     },
     "metadata": {},
     "output_type": "display_data"
    }
   ],
   "source": [
    "import matplotlib.pyplot as plt\n",
    "plt.plot(list(range(0, 100)), list(df_grid['mean_test_score']))"
   ]
  },
  {
   "cell_type": "code",
   "execution_count": 22,
   "id": "3de5287c",
   "metadata": {},
   "outputs": [],
   "source": [
    "#provi i 5 modelli migliori e prendi quello che dà il risultato migliore"
   ]
  },
  {
   "cell_type": "code",
   "execution_count": 23,
   "id": "5544013d",
   "metadata": {},
   "outputs": [],
   "source": [
    "def scale_and_predict(estimator,X_test):\n",
    "    \n",
    "    scaler = preprocessing.StandardScaler().fit(X_test)\n",
    "    X_test_scaled = scaler.transform(X_test)\n",
    "    pred = estimator.predict(X_test_scaled)\n",
    "    \n",
    "    return pred"
   ]
  },
  {
   "cell_type": "code",
   "execution_count": 24,
   "id": "46e5d250",
   "metadata": {},
   "outputs": [],
   "source": [
    "predictions = [scale_and_predict(outer_models[i],X_test) for i in range(5)] #previsioni per i 5 modelli"
   ]
  },
  {
   "cell_type": "code",
   "execution_count": 25,
   "id": "70f13134",
   "metadata": {},
   "outputs": [],
   "source": [
    "from sklearn.metrics import confusion_matrix\n",
    "conf_matrices=[confusion_matrix(y_test, predictions[i]) for i in range(5)]"
   ]
  },
  {
   "cell_type": "code",
   "execution_count": 26,
   "id": "18ff668a",
   "metadata": {},
   "outputs": [],
   "source": [
    "def metrics(conf_matrix):\n",
    "    \n",
    "    TP = conf_matrix[0,0]\n",
    "    TN = conf_matrix[1,1]\n",
    "    FP = conf_matrix[0,1]\n",
    "    FN = conf_matrix[1,0]\n",
    "    \n",
    "    \n",
    "    Metrics = {'Precision': TP / (TP + FP), 'Recall': TP / (TP + FN),\n",
    "                'Accuracy': (TP + TN) / (TP + TN + FP + FN),\n",
    "                'F1_score': 2*TP / (2*TP + FP + FN)}\n",
    "    \n",
    "    return Metrics "
   ]
  },
  {
   "cell_type": "code",
   "execution_count": 27,
   "id": "d74d3bf4",
   "metadata": {
    "scrolled": true
   },
   "outputs": [
    {
     "name": "stdout",
     "output_type": "stream",
     "text": [
      "0.8923736126402237\n",
      "0.8921073849553558\n",
      "0.8924949290060852\n",
      "0.892667818214307\n",
      "0.8921902034484815\n"
     ]
    },
    {
     "data": {
      "text/plain": [
       "[None, None, None, None, None]"
      ]
     },
     "execution_count": 27,
     "metadata": {},
     "output_type": "execute_result"
    }
   ],
   "source": [
    "[print(metrics(conf_matrices[i])['F1_score']) for i in range(5)]"
   ]
  },
  {
   "cell_type": "code",
   "execution_count": 29,
   "id": "c729b803",
   "metadata": {},
   "outputs": [
    {
     "data": {
      "text/plain": [
       "{'C': 10, 'gamma': 0.016636142493842227}"
      ]
     },
     "execution_count": 29,
     "metadata": {},
     "output_type": "execute_result"
    }
   ],
   "source": [
    "#se si usa questo approccio bisogna rifittare tutto il train con questi parametri e usare quello\n",
    "outer_models[3].best_params_"
   ]
  },
  {
   "cell_type": "code",
   "execution_count": 30,
   "id": "c8858115",
   "metadata": {},
   "outputs": [],
   "source": [
    "#altrimenti ensamble, si usano tutti e si prende il risultato che appare di più spesso\n",
    "\n",
    "ensamble_prediction = pd.DataFrame(predictions).transpose().mode(axis = 1) #questo sceglie la previsione modale per riga\n",
    "\n",
    "ensamble_conf_matrix = confusion_matrix(y_test,ensamble_prediction)"
   ]
  },
  {
   "cell_type": "code",
   "execution_count": 31,
   "id": "38c8d395",
   "metadata": {},
   "outputs": [
    {
     "data": {
      "text/plain": [
       "{'Precision': 0.9607981521878609,\n",
       " 'Recall': 0.8338437552202238,\n",
       " 'Accuracy': 0.82025,\n",
       " 'F1_score': 0.892830526158891}"
      ]
     },
     "execution_count": 31,
     "metadata": {},
     "output_type": "execute_result"
    }
   ],
   "source": [
    "metrics(ensamble_conf_matrix)"
   ]
  },
  {
   "cell_type": "code",
   "execution_count": 32,
   "id": "3b3e3f01",
   "metadata": {},
   "outputs": [
    {
     "data": {
      "text/plain": [
       "array([[14975,   611],\n",
       "       [ 2984,  1430]], dtype=int64)"
      ]
     },
     "execution_count": 32,
     "metadata": {},
     "output_type": "execute_result"
    }
   ],
   "source": [
    "ensamble_conf_matrix"
   ]
  }
 ],
 "metadata": {
  "kernelspec": {
   "display_name": "Python 3 (ipykernel)",
   "language": "python",
   "name": "python3"
  },
  "language_info": {
   "codemirror_mode": {
    "name": "ipython",
    "version": 3
   },
   "file_extension": ".py",
   "mimetype": "text/x-python",
   "name": "python",
   "nbconvert_exporter": "python",
   "pygments_lexer": "ipython3",
   "version": "3.9.13"
  }
 },
 "nbformat": 4,
 "nbformat_minor": 5
}
